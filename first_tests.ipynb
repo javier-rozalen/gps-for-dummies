{
 "cells": [
  {
   "cell_type": "code",
   "execution_count": 2,
   "metadata": {},
   "outputs": [
    {
     "name": "stdout",
     "output_type": "stream",
     "text": [
      "The autoreload extension is already loaded. To reload it, use:\n",
      "  %reload_ext autoreload\n"
     ]
    }
   ],
   "source": [
    "import math\n",
    "import torch\n",
    "import gpytorch\n",
    "from matplotlib import pyplot as plt\n",
    "\n",
    "%matplotlib inline\n",
    "%load_ext autoreload\n",
    "%autoreload 2"
   ]
  },
  {
   "cell_type": "code",
   "execution_count": 4,
   "metadata": {},
   "outputs": [],
   "source": [
    "# Training data is 100 points in [0,1] inclusive regularly spaced\n",
    "train_x = torch.linspace(0, 1, 100)\n",
    "# True function is sin(2*pi*x) with Gaussian noise\n",
    "train_y = torch.sin(train_x * (2 * math.pi)) + torch.randn(train_x.size()) * math.sqrt(0.04)"
   ]
  },
  {
   "attachments": {},
   "cell_type": "markdown",
   "metadata": {},
   "source": []
  },
  {
   "cell_type": "code",
   "execution_count": 7,
   "metadata": {},
   "outputs": [],
   "source": [
    "# We will use the simplest form of GP model, exact inference\n",
    "class ExactGPModel(gpytorch.models.ExactGP):\n",
    "    def __init__(self, train_x, train_y, likelihood):\n",
    "        super(ExactGPModel, self).__init__(train_x, train_y, likelihood)\n",
    "        self.mean_module = gpytorch.means.ConstantMean()\n",
    "        self.covar_module = gpytorch.kernels.ScaleKernel(gpytorch.kernels.RBFKernel())\n",
    "\n",
    "    def forward(self, x):\n",
    "        mean_x = self.mean_module(x)\n",
    "        covar_x = self.covar_module(x)\n",
    "        return gpytorch.distributions.MultivariateNormal(mean_x, covar_x)\n",
    "\n",
    "# initialize likelihood and model\n",
    "likelihood = gpytorch.likelihoods.GaussianLikelihood()\n",
    "model = ExactGPModel(train_x, train_y, likelihood)"
   ]
  },
  {
   "cell_type": "code",
   "execution_count": 11,
   "metadata": {},
   "outputs": [
    {
     "name": "stdout",
     "output_type": "stream",
     "text": [
      "[Parameter containing:\n",
      "tensor([-3.4146], requires_grad=True), Parameter containing:\n",
      "tensor(0.0284, requires_grad=True), Parameter containing:\n",
      "tensor(-0.0537, requires_grad=True), Parameter containing:\n",
      "tensor([[-1.2763]], requires_grad=True)]\n",
      "Iter 1/50 - Loss: -0.153   lengthscale: 0.246   noise: 0.032\n",
      "Iter 2/50 - Loss: -0.149   lengthscale: 0.269   noise: 0.029\n",
      "Iter 3/50 - Loss: -0.153   lengthscale: 0.253   noise: 0.032\n",
      "Iter 4/50 - Loss: -0.152   lengthscale: 0.238   noise: 0.034\n",
      "Iter 5/50 - Loss: -0.151   lengthscale: 0.232   noise: 0.035\n",
      "Iter 6/50 - Loss: -0.151   lengthscale: 0.234   noise: 0.034\n",
      "Iter 7/50 - Loss: -0.153   lengthscale: 0.240   noise: 0.033\n",
      "Iter 8/50 - Loss: -0.153   lengthscale: 0.248   noise: 0.032\n",
      "Iter 9/50 - Loss: -0.153   lengthscale: 0.255   noise: 0.031\n",
      "Iter 10/50 - Loss: -0.152   lengthscale: 0.259   noise: 0.031\n",
      "Iter 11/50 - Loss: -0.152   lengthscale: 0.260   noise: 0.031\n",
      "Iter 12/50 - Loss: -0.153   lengthscale: 0.257   noise: 0.031\n",
      "Iter 13/50 - Loss: -0.153   lengthscale: 0.252   noise: 0.032\n",
      "Iter 14/50 - Loss: -0.153   lengthscale: 0.247   noise: 0.033\n",
      "Iter 15/50 - Loss: -0.153   lengthscale: 0.243   noise: 0.033\n",
      "Iter 16/50 - Loss: -0.153   lengthscale: 0.241   noise: 0.034\n",
      "Iter 17/50 - Loss: -0.153   lengthscale: 0.241   noise: 0.033\n",
      "Iter 18/50 - Loss: -0.153   lengthscale: 0.243   noise: 0.033\n",
      "Iter 19/50 - Loss: -0.153   lengthscale: 0.247   noise: 0.032\n",
      "Iter 20/50 - Loss: -0.153   lengthscale: 0.251   noise: 0.032\n",
      "Iter 21/50 - Loss: -0.153   lengthscale: 0.254   noise: 0.032\n",
      "Iter 22/50 - Loss: -0.153   lengthscale: 0.255   noise: 0.031\n",
      "Iter 23/50 - Loss: -0.153   lengthscale: 0.254   noise: 0.032\n",
      "Iter 24/50 - Loss: -0.153   lengthscale: 0.252   noise: 0.032\n",
      "Iter 25/50 - Loss: -0.153   lengthscale: 0.249   noise: 0.032\n",
      "Iter 26/50 - Loss: -0.153   lengthscale: 0.246   noise: 0.033\n",
      "Iter 27/50 - Loss: -0.153   lengthscale: 0.244   noise: 0.033\n",
      "Iter 28/50 - Loss: -0.153   lengthscale: 0.244   noise: 0.033\n",
      "Iter 29/50 - Loss: -0.153   lengthscale: 0.244   noise: 0.033\n",
      "Iter 30/50 - Loss: -0.153   lengthscale: 0.246   noise: 0.033\n",
      "Iter 31/50 - Loss: -0.153   lengthscale: 0.248   noise: 0.032\n",
      "Iter 32/50 - Loss: -0.153   lengthscale: 0.250   noise: 0.032\n",
      "Iter 33/50 - Loss: -0.153   lengthscale: 0.251   noise: 0.032\n",
      "Iter 34/50 - Loss: -0.153   lengthscale: 0.251   noise: 0.032\n",
      "Iter 35/50 - Loss: -0.153   lengthscale: 0.250   noise: 0.032\n",
      "Iter 36/50 - Loss: -0.153   lengthscale: 0.248   noise: 0.032\n",
      "Iter 37/50 - Loss: -0.153   lengthscale: 0.247   noise: 0.032\n",
      "Iter 38/50 - Loss: -0.153   lengthscale: 0.245   noise: 0.033\n",
      "Iter 39/50 - Loss: -0.153   lengthscale: 0.245   noise: 0.033\n",
      "Iter 40/50 - Loss: -0.153   lengthscale: 0.245   noise: 0.033\n",
      "Iter 41/50 - Loss: -0.153   lengthscale: 0.246   noise: 0.032\n",
      "Iter 42/50 - Loss: -0.153   lengthscale: 0.247   noise: 0.032\n",
      "Iter 43/50 - Loss: -0.153   lengthscale: 0.249   noise: 0.032\n",
      "Iter 44/50 - Loss: -0.153   lengthscale: 0.249   noise: 0.032\n",
      "Iter 45/50 - Loss: -0.153   lengthscale: 0.249   noise: 0.032\n",
      "Iter 46/50 - Loss: -0.153   lengthscale: 0.248   noise: 0.032\n",
      "Iter 47/50 - Loss: -0.153   lengthscale: 0.247   noise: 0.032\n",
      "Iter 48/50 - Loss: -0.153   lengthscale: 0.246   noise: 0.032\n",
      "Iter 49/50 - Loss: -0.153   lengthscale: 0.246   noise: 0.033\n",
      "Iter 50/50 - Loss: -0.153   lengthscale: 0.246   noise: 0.032\n"
     ]
    }
   ],
   "source": [
    "# this is for running the notebook in our testing framework\n",
    "import os\n",
    "smoke_test = ('CI' in os.environ)\n",
    "training_iter = 2 if smoke_test else 50\n",
    "\n",
    "\n",
    "# Find optimal model hyperparameters\n",
    "model.train()\n",
    "likelihood.train()\n",
    "\n",
    "# Use the adam optimizer\n",
    "optimizer = torch.optim.Adam(model.parameters(), lr=0.1)  # Includes GaussianLikelihood parameters\n",
    "print([i for i in model.parameters()])\n",
    "\n",
    "# \"Loss\" for GPs - the marginal log likelihood\n",
    "mll = gpytorch.mlls.ExactMarginalLogLikelihood(likelihood, model)\n",
    "\n",
    "for i in range(training_iter):\n",
    "    # Zero gradients from previous iteration\n",
    "    optimizer.zero_grad()\n",
    "    # Output from model\n",
    "    output = model(train_x)\n",
    "    # Calc loss and backprop gradients\n",
    "    loss = -mll(output, train_y)\n",
    "    loss.backward()\n",
    "    print('Iter %d/%d - Loss: %.3f   lengthscale: %.3f   noise: %.3f' % (\n",
    "        i + 1, training_iter, loss.item(),\n",
    "        model.covar_module.base_kernel.lengthscale.item(),\n",
    "        model.likelihood.noise.item()\n",
    "    ))\n",
    "    optimizer.step()"
   ]
  },
  {
   "cell_type": "code",
   "execution_count": 14,
   "metadata": {},
   "outputs": [],
   "source": [
    "# Get into evaluation (predictive posterior) mode\n",
    "model.eval()\n",
    "likelihood.eval()\n",
    "\n",
    "# Test points are regularly spaced along [0,1]\n",
    "# Make predictions by feeding model through likelihood\n",
    "with torch.no_grad(), gpytorch.settings.fast_pred_var():\n",
    "    test_x = torch.linspace(0, 1, 51)\n",
    "    observed_pred = likelihood(model(test_x))"
   ]
  },
  {
   "cell_type": "code",
   "execution_count": 17,
   "metadata": {},
   "outputs": [
    {
     "data": {
      "image/png": "[encoded data removed]",
      "text/plain": [
       "<Figure size 400x300 with 1 Axes>"
      ]
     },
     "metadata": {},
     "output_type": "display_data"
    }
   ],
   "source": [
    "with torch.no_grad():\n",
    "    # Initialize plot\n",
    "    f, ax = plt.subplots(1, 1, figsize=(4, 3))\n",
    "\n",
    "    # Get upper and lower confidence bounds\n",
    "    lower, upper = observed_pred.confidence_region()\n",
    "    # Plot training data as black stars\n",
    "    ax.plot(train_x.numpy(), train_y.numpy(), 'k*')\n",
    "    # Plot predictive means as blue line\n",
    "    ax.plot(test_x.numpy(), observed_pred.mean.numpy(), 'b')\n",
    "    # Shade between the lower and upper confidence bounds\n",
    "    ax.fill_between(test_x.numpy(), lower.numpy(), upper.numpy(), alpha=0.5)\n",
    "    ax.set_ylim([-3, 3])\n",
    "    ax.legend(['Observed Data', 'Mean', 'Confidence'])"
   ]
  },
  {
   "cell_type": "code",
   "execution_count": null,
   "metadata": {},
   "outputs": [],
   "source": []
  }
 ],
 "metadata": {
  "kernelspec": {
   "display_name": "Python 3",
   "language": "python",
   "name": "python3"
  },
  "language_info": {
   "codemirror_mode": {
    "name": "ipython",
    "version": 3
   },
   "file_extension": ".py",
   "mimetype": "text/x-python",
   "name": "python",
   "nbconvert_exporter": "python",
   "pygments_lexer": "ipython3",
   "version": "3.10.6"
  },
  "orig_nbformat": 4
 },
 "nbformat": 4,
 "nbformat_minor": 2
}
